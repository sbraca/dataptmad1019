{
 "cells": [
  {
   "cell_type": "markdown",
   "metadata": {},
   "source": [
    "# 1. Import the NUMPY package under the name np."
   ]
  },
  {
   "cell_type": "code",
   "execution_count": 1,
   "metadata": {},
   "outputs": [],
   "source": [
    "import numpy as np\n"
   ]
  },
  {
   "cell_type": "markdown",
   "metadata": {},
   "source": [
    "## 2. Print the NUMPY version and the configuration.\n"
   ]
  },
  {
   "cell_type": "code",
   "execution_count": null,
   "metadata": {},
   "outputs": [],
   "source": []
  },
  {
   "cell_type": "markdown",
   "metadata": {},
   "source": [
    "## 3. Generate a 2x3x5 3-dimensional array with random values. Assign the array to variable \"a\"\n"
   ]
  },
  {
   "cell_type": "code",
   "execution_count": 30,
   "metadata": {},
   "outputs": [],
   "source": [
    "a = np.random.random((2,3,5))\n"
   ]
  },
  {
   "cell_type": "markdown",
   "metadata": {},
   "source": [
    "## 4. Print a."
   ]
  },
  {
   "cell_type": "code",
   "execution_count": 14,
   "metadata": {},
   "outputs": [
    {
     "name": "stdout",
     "output_type": "stream",
     "text": [
      "[[[0.06523791 0.78938953 0.08795576 0.30958237 0.52995214]\n",
      "  [0.58190463 0.58888508 0.82863747 0.51260685 0.48835282]\n",
      "  [0.72537681 0.42479873 0.3113512  0.25002858 0.19384176]]\n",
      "\n",
      " [[0.06463913 0.26426542 0.11894184 0.5212192  0.52196466]\n",
      "  [0.42909716 0.42317597 0.09982121 0.3447752  0.68964267]\n",
      "  [0.09628478 0.74561513 0.58656919 0.76038344 0.67644806]]]\n"
     ]
    }
   ],
   "source": [
    "print(a)"
   ]
  },
  {
   "cell_type": "markdown",
   "metadata": {},
   "source": [
    "## 5. Create a 5x2x3 3-dimensional array with all values equaling 1.\n",
    "#Assign the array to variable \"b\""
   ]
  },
  {
   "cell_type": "code",
   "execution_count": 8,
   "metadata": {},
   "outputs": [],
   "source": [
    "b = np.ones((5,2,3))"
   ]
  },
  {
   "cell_type": "markdown",
   "metadata": {},
   "source": [
    "## 6. Print b."
   ]
  },
  {
   "cell_type": "code",
   "execution_count": 9,
   "metadata": {},
   "outputs": [
    {
     "name": "stdout",
     "output_type": "stream",
     "text": [
      "[[[1. 1. 1.]\n",
      "  [1. 1. 1.]]\n",
      "\n",
      " [[1. 1. 1.]\n",
      "  [1. 1. 1.]]\n",
      "\n",
      " [[1. 1. 1.]\n",
      "  [1. 1. 1.]]\n",
      "\n",
      " [[1. 1. 1.]\n",
      "  [1. 1. 1.]]\n",
      "\n",
      " [[1. 1. 1.]\n",
      "  [1. 1. 1.]]]\n"
     ]
    }
   ],
   "source": [
    "print(b)"
   ]
  },
  {
   "cell_type": "markdown",
   "metadata": {},
   "source": [
    "## 7. Do a and b have the same size? How do you prove that in Python code?"
   ]
  },
  {
   "cell_type": "code",
   "execution_count": 10,
   "metadata": {},
   "outputs": [
    {
     "data": {
      "text/plain": [
       "False"
      ]
     },
     "execution_count": 10,
     "metadata": {},
     "output_type": "execute_result"
    }
   ],
   "source": [
    "a.shape == b.shape"
   ]
  },
  {
   "cell_type": "markdown",
   "metadata": {},
   "source": [
    "## 8. Are you able to add a and b? Why or why not?"
   ]
  },
  {
   "cell_type": "code",
   "execution_count": null,
   "metadata": {},
   "outputs": [],
   "source": [
    "No, you're not. "
   ]
  },
  {
   "cell_type": "markdown",
   "metadata": {},
   "source": [
    "## 9. Transpose b so that it has the same structure of a (i.e. become a 2x3x5 array). Assign the transposed array to varialbe \"c\"."
   ]
  },
  {
   "cell_type": "code",
   "execution_count": 18,
   "metadata": {},
   "outputs": [
    {
     "name": "stdout",
     "output_type": "stream",
     "text": [
      "[[[1. 1. 1. 1. 1.]\n",
      "  [1. 1. 1. 1. 1.]\n",
      "  [1. 1. 1. 1. 1.]]\n",
      "\n",
      " [[1. 1. 1. 1. 1.]\n",
      "  [1. 1. 1. 1. 1.]\n",
      "  [1. 1. 1. 1. 1.]]]\n"
     ]
    }
   ],
   "source": [
    "c = np.array(b).reshape(2,3,5)\n",
    "print(c)\n",
    "c.shape"
   ]
  },
  {
   "cell_type": "markdown",
   "metadata": {},
   "source": [
    "## 10. Try to add a and c. Now it should work. Assign the sum to varialbe \"d\". But why does it work now?"
   ]
  },
  {
   "cell_type": "code",
   "execution_count": 21,
   "metadata": {},
   "outputs": [
    {
     "name": "stdout",
     "output_type": "stream",
     "text": [
      "[[[1.06523791 1.78938953 1.08795576 1.30958237 1.52995214]\n",
      "  [1.58190463 1.58888508 1.82863747 1.51260685 1.48835282]\n",
      "  [1.72537681 1.42479873 1.3113512  1.25002858 1.19384176]]\n",
      "\n",
      " [[1.06463913 1.26426542 1.11894184 1.5212192  1.52196466]\n",
      "  [1.42909716 1.42317597 1.09982121 1.3447752  1.68964267]\n",
      "  [1.09628478 1.74561513 1.58656919 1.76038344 1.67644806]]]\n"
     ]
    }
   ],
   "source": [
    "d = a + c\n",
    "print(d)\n",
    "#because a and c have the same dimensions. "
   ]
  },
  {
   "cell_type": "markdown",
   "metadata": {},
   "source": [
    "## 11. Print a and d. Notice the difference and relation of the two array in terms of the values? Explain.\n"
   ]
  },
  {
   "cell_type": "code",
   "execution_count": 23,
   "metadata": {},
   "outputs": [
    {
     "name": "stdout",
     "output_type": "stream",
     "text": [
      "[[[0.06523791 0.78938953 0.08795576 0.30958237 0.52995214]\n",
      "  [0.58190463 0.58888508 0.82863747 0.51260685 0.48835282]\n",
      "  [0.72537681 0.42479873 0.3113512  0.25002858 0.19384176]]\n",
      "\n",
      " [[0.06463913 0.26426542 0.11894184 0.5212192  0.52196466]\n",
      "  [0.42909716 0.42317597 0.09982121 0.3447752  0.68964267]\n",
      "  [0.09628478 0.74561513 0.58656919 0.76038344 0.67644806]]]\n",
      "[[[1.06523791 1.78938953 1.08795576 1.30958237 1.52995214]\n",
      "  [1.58190463 1.58888508 1.82863747 1.51260685 1.48835282]\n",
      "  [1.72537681 1.42479873 1.3113512  1.25002858 1.19384176]]\n",
      "\n",
      " [[1.06463913 1.26426542 1.11894184 1.5212192  1.52196466]\n",
      "  [1.42909716 1.42317597 1.09982121 1.3447752  1.68964267]\n",
      "  [1.09628478 1.74561513 1.58656919 1.76038344 1.67644806]]]\n"
     ]
    }
   ],
   "source": [
    "print(a)\n",
    "print(d)\n",
    "#In ex. 10. we added the rearranged b (which we called C) to a, so we added 1 to all elements in a. "
   ]
  },
  {
   "cell_type": "markdown",
   "metadata": {},
   "source": [
    "## 12. Multiply a and c. Assign the result to e."
   ]
  },
  {
   "cell_type": "code",
   "execution_count": 27,
   "metadata": {},
   "outputs": [
    {
     "name": "stdout",
     "output_type": "stream",
     "text": [
      "[[[0.06523791 0.78938953 0.08795576 0.30958237 0.52995214]\n",
      "  [0.58190463 0.58888508 0.82863747 0.51260685 0.48835282]\n",
      "  [0.72537681 0.42479873 0.3113512  0.25002858 0.19384176]]\n",
      "\n",
      " [[0.06463913 0.26426542 0.11894184 0.5212192  0.52196466]\n",
      "  [0.42909716 0.42317597 0.09982121 0.3447752  0.68964267]\n",
      "  [0.09628478 0.74561513 0.58656919 0.76038344 0.67644806]]]\n"
     ]
    }
   ],
   "source": [
    "e = a * c\n",
    "print(e)"
   ]
  },
  {
   "cell_type": "markdown",
   "metadata": {},
   "source": [
    "## 13. Does e equal to a? Why or why not?"
   ]
  },
  {
   "cell_type": "code",
   "execution_count": 28,
   "metadata": {},
   "outputs": [],
   "source": [
    "#yes, it does. Because you are multiplying all values in a by 1. "
   ]
  },
  {
   "cell_type": "markdown",
   "metadata": {},
   "source": [
    "## 14. Identify the max, min, and mean values in d. Assign those values to variables \"d_max\", \"d_min\", and \"d_mean\""
   ]
  },
  {
   "cell_type": "code",
   "execution_count": null,
   "metadata": {},
   "outputs": [],
   "source": []
  }
 ],
 "metadata": {
  "kernelspec": {
   "display_name": "Python [conda env:data_env]",
   "language": "python",
   "name": "conda-env-data_env-py"
  },
  "language_info": {
   "codemirror_mode": {
    "name": "ipython",
    "version": 3
   },
   "file_extension": ".py",
   "mimetype": "text/x-python",
   "name": "python",
   "nbconvert_exporter": "python",
   "pygments_lexer": "ipython3",
   "version": "3.7.5"
  }
 },
 "nbformat": 4,
 "nbformat_minor": 2
}
